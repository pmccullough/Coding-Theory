{
 "cells": [
  {
   "cell_type": "markdown",
   "id": "19e9ad59",
   "metadata": {},
   "source": [
    "# BCH Code Demonstration (Work in Progress)\n",
    "\n",
    "This notebook demonstrates the construction and analysis of BCH codes over various Galois fields.  \n",
    "We show how to generate BCH codes, display their generator polynomials, and compute syndromes for received vectors.\n",
    "\n",
    "*This notebook is being developed as part of my research in coding theory. The next steps will focus on decoding algorithms.*"
   ]
  },
  {
   "cell_type": "markdown",
   "id": "ab320555",
   "metadata": {},
   "source": [
    "## Overview\n",
    "\n",
    "This notebook covers the following topics:\n",
    "- **Galois Field Construction:** We use pre-built fields such as $GF(16)$ and $GF(64)$.\n",
    "- **BCH Code Generation:** We construct BCH codes with different parameters and display their generator polynomials.\n",
    "- **Syndrome Calculation:** For a given received vector, we compute and display the syndromes in terms of the primitive element."
   ]
  },
  {
   "cell_type": "markdown",
   "id": "01ec1787",
   "metadata": {},
   "source": [
    "## Setup and Imports"
   ]
  },
  {
   "cell_type": "code",
   "execution_count": 1,
   "id": "d43e0508",
   "metadata": {},
   "outputs": [],
   "source": [
    "import numpy as np\n",
    "import sys\n",
    "import os\n",
    "# Ensure src is in the Python path for module imports\n",
    "SRC_PATH = os.path.abspath(os.path.join(os.getcwd(), '../src'))\n",
    "if SRC_PATH not in sys.path:\n",
    "    sys.path.insert(0, SRC_PATH)\n",
    "from codes import GF16, GF64, BCH\n",
    "from utils import encode, poly_to_string"
   ]
  },
  {
   "cell_type": "markdown",
   "id": "8fb3f0c4",
   "metadata": {},
   "source": [
    "## Constructing BCH Codes\n",
    "\n",
    "We provide two examples of constructing BCH codes."
   ]
  },
  {
   "cell_type": "markdown",
   "id": "119ff7c2",
   "metadata": {},
   "source": [
    "### Example 1\n",
    "\n",
    "We construct binary BCH codes of length $n=9$ and designed distance $\\delta=3$.  \n",
    "The parameter $b$ determines the starting exponent for the roots of the generator polynomial.  \n",
    "Below, we show the generator polynomials for $0 \\leq b \\leq 8$."
   ]
  },
  {
   "cell_type": "code",
   "execution_count": 2,
   "id": "23afe8aa",
   "metadata": {},
   "outputs": [
    {
     "name": "stdout",
     "output_type": "stream",
     "text": [
      "b =  0  | Generator polynomial: x⁷ + x⁶ + x⁴ + x³ + x + 1\n",
      "b =  1  | Generator polynomial: x⁶ + x³ + 1\n",
      "b =  2  | Generator polynomial: x⁸ + x⁷ + x⁶ + x⁵ + x⁴ + x³ + x² + x + 1\n",
      "b =  3  | Generator polynomial: x⁸ + x⁷ + x⁶ + x⁵ + x⁴ + x³ + x² + x + 1\n",
      "b =  4  | Generator polynomial: x⁶ + x³ + 1\n",
      "b =  5  | Generator polynomial: x⁸ + x⁷ + x⁶ + x⁵ + x⁴ + x³ + x² + x + 1\n",
      "b =  6  | Generator polynomial: x⁸ + x⁷ + x⁶ + x⁵ + x⁴ + x³ + x² + x + 1\n",
      "b =  7  | Generator polynomial: x⁶ + x³ + 1\n",
      "b =  8  | Generator polynomial: x⁷ + x⁶ + x⁴ + x³ + x + 1\n"
     ]
    }
   ],
   "source": [
    "gf64 = GF64\n",
    "for b in range(9):\n",
    "    bch = BCH(gf64, q =2, delta = 3, b = b, n = 9)\n",
    "    print(\"b = \",b,\" | Generator polynomial:\", poly_to_string(bch.g, var='x'))\n"
   ]
  },
  {
   "cell_type": "markdown",
   "id": "ad1f16a7",
   "metadata": {},
   "source": [
    "### Example 2\n",
    "We will construct a narrow-sense Reed-Solomon code over $\\operatorname{GF}(16)$ of designed distance $5$. "
   ]
  },
  {
   "cell_type": "code",
   "execution_count": null,
   "id": "3ea3a7e2",
   "metadata": {},
   "outputs": [
    {
     "name": "stdout",
     "output_type": "stream",
     "text": [
      "Generator polynomial for RS(15, 11) over GF(16): x⁴ + α⁷x³ + α⁴x² + α¹²x + α¹⁰\n"
     ]
    }
   ],
   "source": [
    "gf16 = GF16\n",
    "RS_16 = BCH(gf16, q=16, delta=5)  # Reed-Solomon (15, 11) code over GF(16)\n",
    "print(\"Generator polynomial for RS(15, 11) over GF(16):\", RS_16.g_poly_repr())"
   ]
  },
  {
   "cell_type": "markdown",
   "id": "fb63c170",
   "metadata": {},
   "source": [
    "## Syndrome Calculation\n"
   ]
  },
  {
   "cell_type": "markdown",
   "id": "397bc40b",
   "metadata": {},
   "source": [
    "### Example 3\n",
    "We construct binary BCH-code of lenght $n=21$ and designed distance $\\delta = 7$. The following cell shows the syndromes for a received word \n",
    "$$ \\mathbf{y} = 001001000000000000000$$\n"
   ]
  },
  {
   "cell_type": "code",
   "execution_count": 3,
   "id": "9b5738aa",
   "metadata": {},
   "outputs": [
    {
     "name": "stdout",
     "output_type": "stream",
     "text": [
      "Syndromes for received vector y = [0, 0, 1, 0, 0, 1, 0, 0, 0, 0, 0, 0, 0, 0, 0, 0, 0, 0, 0, 0, 0]\n",
      "S_1 = α⁵¹\n",
      "S_2 = α³⁹\n",
      "S_3 = α³⁶\n",
      "S_4 = α¹⁵\n",
      "S_5 = α³⁹\n",
      "S_6 = α⁹\n"
     ]
    }
   ],
   "source": [
    "bch =  BCH(gf64, q = 2, delta = 7, b = 1, n = 21)\n",
    "y = [0,0,1,0,0,1,0,0,0,0,0,0,0,0,0,0,0,0,0,0,0]  # Example received vector\n",
    "S = bch.syndromes(y)  # Example received vector\n",
    "print(\"Syndromes for received vector y =\", y)\n",
    "for i,s in enumerate(S, start=1):\n",
    "    print(f\"S_{i} = {gf64.alpha_power_repr(s)}\")"
   ]
  },
  {
   "cell_type": "markdown",
   "id": "62adf6be",
   "metadata": {},
   "source": [
    "We can also display the syndrome polynomial $S(x)$."
   ]
  },
  {
   "cell_type": "code",
   "execution_count": 6,
   "id": "ccf3a198",
   "metadata": {},
   "outputs": [
    {
     "name": "stdout",
     "output_type": "stream",
     "text": [
      "Integer coefficients of syndrome polynomial S(x): [1, 43, 54, 22, 40, 54, 24]\n",
      "Syndrome polynomial S(x): α⁹x⁶ + α³⁹x⁵ + α¹⁵x⁴ + α³⁶x³ + α³⁹x² + α⁵¹x + 1\n"
     ]
    }
   ],
   "source": [
    "print(\"Integer coefficients of syndrome polynomial S(x):\", bch.syndrome_poly(y))\n",
    "print(\"Syndrome polynomial S(x):\",bch.s_poly_repr(y))"
   ]
  },
  {
   "cell_type": "markdown",
   "id": "1a986e25",
   "metadata": {},
   "source": [
    "## Next Steps\n",
    "\n",
    "This notebook is a work in progress.  \n",
    "**Upcoming features:**\n",
    "- Implementation of the key equation decoder for BCH codes.\n",
    "- Coding the Euclidean algorithm to solve the key equation and find error locator polynomials.\n",
    "\n",
    "*Feedback and suggestions are welcome as I continue to develop the decoding section!*"
   ]
  }
 ],
 "metadata": {
  "kernelspec": {
   "display_name": "venv",
   "language": "python",
   "name": "python3"
  },
  "language_info": {
   "codemirror_mode": {
    "name": "ipython",
    "version": 3
   },
   "file_extension": ".py",
   "mimetype": "text/x-python",
   "name": "python",
   "nbconvert_exporter": "python",
   "pygments_lexer": "ipython3",
   "version": "3.12.3"
  }
 },
 "nbformat": 4,
 "nbformat_minor": 5
}
