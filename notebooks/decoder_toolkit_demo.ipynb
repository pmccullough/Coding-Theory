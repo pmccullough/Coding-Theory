{
 "cells": [
  {
   "cell_type": "markdown",
   "id": "fbdb310f",
   "metadata": {},
   "source": [
    "# Decoder Toolkit Demo\n",
    "\n",
    "This notebook demonstrates basic linear code encoding and decoding methods.\n",
    "While these are not the primary focus of the project, they provide essential infrastructure \n",
    "for more advanced decoders such as those based on the **Key Equation** and the **Sudan-Guruswami** algorithm.\n",
    "\n",
    "## Contents\n",
    "1. Setup and Generator Matrix\n",
    "2. Encoding Examples\n",
    "3. Nearest Neighbor Decoder\n",
    "4. Standard Array Decoder\n",
    "5. Syndrome Decoder\n",
    "6. Summary and Limitations"
   ]
  },
  {
   "cell_type": "markdown",
   "id": "05cec667",
   "metadata": {},
   "source": [
    "## 1. Setup and Generator Matrix\n",
    "\n",
    "We use a binary linear $[7,4]$ code over $\\mathbb{F}_2$ with the following generator matrix:\n",
    "\n",
    "$$\n",
    "G = \\begin{bmatrix}\n",
    "1 & 0 & 0 & 0 & 1 & 1 & 0 \\\\\n",
    "0 & 1 & 0 & 0 & 1 & 0 & 1 \\\\\n",
    "0 & 0 & 1 & 0 & 0 & 1 & 1 \\\\\n",
    "0 & 0 & 0 & 1 & 1 & 1 & 1\n",
    "\\end{bmatrix}\n",
    "$$"
   ]
  },
  {
   "cell_type": "code",
   "execution_count": 1,
   "id": "2e7fe748",
   "metadata": {},
   "outputs": [],
   "source": [
    "# Imports\n",
    "import numpy as np\n",
    "import sys\n",
    "import os\n",
    "sys.path.append(os.path.abspath(\"../src\"))\n",
    "import decoders\n",
    "from utils import encode"
   ]
  },
  {
   "cell_type": "code",
   "execution_count": 2,
   "id": "d8347f1f",
   "metadata": {},
   "outputs": [],
   "source": [
    "# Define the generator matrix for the [7,4] binary code\n",
    "G = [\n",
    "    [1, 0, 0, 0, 1, 1, 0],\n",
    "    [0, 1, 0, 0, 1, 0, 1],\n",
    "    [0, 0, 1, 0, 0, 1, 1],\n",
    "    [0, 0, 0, 1, 1, 1, 1]\n",
    "]"
   ]
  },
  {
   "cell_type": "markdown",
   "id": "84f6fbc7",
   "metadata": {},
   "source": [
    "## 2. Encoding Examples\n",
    "\n",
    "We now demonstrate how to encode messages using the generator matrix \\( G \\) defined above.\n",
    "\n",
    "Each message is a length-4 binary vector over \\( \\mathbb{F}_2 \\), and encoding is performed via the matrix product:\n",
    "\n",
    "\\[\n",
    "\\mathbf{c} = \\mathbf{u} \\cdot G \\mod 2\n",
    "\\]\n",
    "\n",
    "This produces a codeword of length 7. We'll show a few examples below."
   ]
  },
  {
   "cell_type": "code",
   "execution_count": 3,
   "id": "2227ff6b",
   "metadata": {},
   "outputs": [
    {
     "name": "stdout",
     "output_type": "stream",
     "text": [
      "Encoding with encode(message, G, p):\n",
      "[0, 0, 0, 0] → [0, 0, 0, 0, 0, 0, 0]\n",
      "[1, 0, 0, 1] → [1, 0, 0, 1, 0, 0, 1]\n",
      "[0, 1, 1, 0] → [0, 1, 1, 0, 1, 1, 0]\n",
      "[1, 1, 1, 1] → [1, 1, 1, 1, 1, 1, 1]\n"
     ]
    }
   ],
   "source": [
    "messages = [\n",
    "    [0, 0, 0, 0],\n",
    "    [1, 0, 0, 1],\n",
    "    [0, 1, 1, 0],\n",
    "    [1, 1, 1, 1]\n",
    "]\n",
    "\n",
    "print(\"Encoding with encode(message, G, p):\")\n",
    "for m in messages:\n",
    "    codeword = encode(m, G, 2)\n",
    "    print(f\"{m} → {codeword.tolist()}\")"
   ]
  },
  {
   "cell_type": "markdown",
   "id": "55889782",
   "metadata": {},
   "source": [
    "## 3. Nearest Neighbor Decoder\n",
    "\n",
    "We create an instance of the `NearestNeighborDecoder` using the generator matrix $G$ and field size $p=2$."
   ]
  },
  {
   "cell_type": "code",
   "execution_count": 4,
   "id": "21e2f00f",
   "metadata": {},
   "outputs": [],
   "source": [
    "# Instantiate the decoder\n",
    "nn_decoder = decoders.NearestNeighborDecoder(G, p=2)"
   ]
  },
  {
   "cell_type": "markdown",
   "id": "7f9979c4",
   "metadata": {},
   "source": [
    "### Code Parameters\n",
    "\n",
    "Let's display the parameters of our $[n, k]$ code:\n",
    "- $n$: codeword length\n",
    "- $k$: message length\n",
    "- $p$: field size\n",
    "\n",
    "The following cell prints these parameters and the generator matrix."
   ]
  },
  {
   "cell_type": "code",
   "execution_count": 5,
   "id": "1216de91",
   "metadata": {},
   "outputs": [
    {
     "name": "stdout",
     "output_type": "stream",
     "text": [
      "Linear [7, 4] code over 𝔽_2\n",
      "Generator Matrix G:\n",
      "[[1 0 0 0 1 1 0]\n",
      " [0 1 0 0 1 0 1]\n",
      " [0 0 1 0 0 1 1]\n",
      " [0 0 0 1 1 1 1]]\n",
      "Parity-Check Matrix H:\n",
      "[[1 1 0 1 1 0 0]\n",
      " [1 0 1 1 0 1 0]\n",
      " [0 1 1 1 0 0 1]]\n",
      "\n",
      "First few codewords:\n",
      "  [0 0 0 0] → [0 0 0 0 0 0 0]\n",
      "  [0 0 0 1] → [0 0 0 1 1 1 1]\n",
      "  [0 0 1 0] → [0 0 1 0 0 1 1]\n",
      "  [0 0 1 1] → [0 0 1 1 1 0 0]\n",
      "  [0 1 0 0] → [0 1 0 0 1 0 1]\n",
      "  [0 1 0 1] → [0 1 0 1 0 1 0]\n",
      "  [0 1 1 0] → [0 1 1 0 1 1 0]\n",
      "  [0 1 1 1] → [0 1 1 1 0 0 1]\n",
      "...\n"
     ]
    }
   ],
   "source": [
    "nn_decoder.describe()"
   ]
  },
  {
   "cell_type": "markdown",
   "id": "6aacbf3d",
   "metadata": {},
   "source": [
    "### All Codewords in the Code\n",
    "\n",
    "Below are all possible codewords generated by our $[7,4]$ code. Each codeword corresponds to a unique message vector.  \n",
    "This gives a complete picture of the code's structure."
   ]
  },
  {
   "cell_type": "code",
   "execution_count": 6,
   "id": "43bdca23",
   "metadata": {},
   "outputs": [
    {
     "name": "stdout",
     "output_type": "stream",
     "text": [
      "Message  ->  Codeword\n",
      "[0, 0, 0, 0]  ->  [0, 0, 0, 0, 0, 0, 0]\n",
      "[0, 0, 0, 1]  ->  [0, 0, 0, 1, 1, 1, 1]\n",
      "[0, 0, 1, 0]  ->  [0, 0, 1, 0, 0, 1, 1]\n",
      "[0, 0, 1, 1]  ->  [0, 0, 1, 1, 1, 0, 0]\n",
      "[0, 1, 0, 0]  ->  [0, 1, 0, 0, 1, 0, 1]\n",
      "[0, 1, 0, 1]  ->  [0, 1, 0, 1, 0, 1, 0]\n",
      "[0, 1, 1, 0]  ->  [0, 1, 1, 0, 1, 1, 0]\n",
      "[0, 1, 1, 1]  ->  [0, 1, 1, 1, 0, 0, 1]\n",
      "[1, 0, 0, 0]  ->  [1, 0, 0, 0, 1, 1, 0]\n",
      "[1, 0, 0, 1]  ->  [1, 0, 0, 1, 0, 0, 1]\n",
      "[1, 0, 1, 0]  ->  [1, 0, 1, 0, 1, 0, 1]\n",
      "[1, 0, 1, 1]  ->  [1, 0, 1, 1, 0, 1, 0]\n",
      "[1, 1, 0, 0]  ->  [1, 1, 0, 0, 0, 1, 1]\n",
      "[1, 1, 0, 1]  ->  [1, 1, 0, 1, 1, 0, 0]\n",
      "[1, 1, 1, 0]  ->  [1, 1, 1, 0, 0, 0, 0]\n",
      "[1, 1, 1, 1]  ->  [1, 1, 1, 1, 1, 1, 1]\n"
     ]
    }
   ],
   "source": [
    "nn_decoder.display_code()"
   ]
  },
  {
   "cell_type": "markdown",
   "id": "c4e11469",
   "metadata": {},
   "source": [
    "### Decoding Example Received Vectors\n",
    "\n",
    "We will decode several received vectors, including both valid codewords and vectors with single-bit errors.  \n",
    "The decoder will return the closest valid message for each received vector."
   ]
  },
  {
   "cell_type": "code",
   "execution_count": 7,
   "id": "061d50b4",
   "metadata": {},
   "outputs": [
    {
     "name": "stdout",
     "output_type": "stream",
     "text": [
      "Message: [1, 0, 1, 1]\n",
      "Encoded : [1, 0, 1, 1, 0, 1, 0]\n",
      "Received: [1, 0, 1, 1, 0, 1, 0]\n",
      "Decoded : [1 0 1 1]\n",
      "----------------------------------------\n",
      "Message: [1, 0, 1, 1]\n",
      "Encoded : [1, 0, 1, 1, 0, 1, 0]\n",
      "Received: [1, 0, 1, 1, 1, 1, 0] (bit 4 flipped)\n",
      "Decoded : [1 0 1 1]\n",
      "----------------------------------------\n",
      "Message: [0, 1, 0, 0]\n",
      "Encoded : [0, 1, 0, 0, 1, 0, 1]\n",
      "Received: [0, 1, 1, 0, 1, 0, 1] (bit 2 flipped)\n",
      "Decoded : [0 1 0 0]\n",
      "----------------------------------------\n",
      "Message: [1, 1, 1, 1]\n",
      "Encoded : [1, 1, 1, 1, 1, 1, 1]\n",
      "Received: [1, 1, 1, 1, 1, 1, 0] (bit 6 flipped)\n",
      "Decoded : [1 1 1 1]\n",
      "----------------------------------------\n"
     ]
    }
   ],
   "source": [
    "# Messages and intentionally corrupted versions\n",
    "examples = [\n",
    "    ([1, 0, 1, 1], None),          # Valid message, no corruption\n",
    "    ([1, 0, 1, 1], 4),             # Flip bit 4 → single-bit error\n",
    "    ([0, 1, 0, 0], 2),             # Flip bit 2\n",
    "    ([1, 1, 1, 1], 6),             # Flip bit 6\n",
    "]\n",
    "\n",
    "for message, flip_index in examples:\n",
    "    codeword = np.dot(message, G) % 2\n",
    "    received = codeword.copy()\n",
    "    if flip_index is not None:\n",
    "        received[flip_index] ^= 1\n",
    "    decoded = nn_decoder.decode(received)\n",
    "    print(f\"Message: {message}\")\n",
    "    print(f\"Encoded : {codeword.tolist()}\")\n",
    "    print(f\"Received: {received.tolist()} (bit {flip_index} flipped)\" if flip_index is not None else f\"Received: {received.tolist()}\")\n",
    "    print(f\"Decoded : {decoded}\")\n",
    "    print(\"-\" * 40)"
   ]
  },
  {
   "cell_type": "markdown",
   "id": "d70ddde4",
   "metadata": {},
   "source": [
    "### Uncorrectable Example: Two-Bit Error\n",
    "\n",
    "Now we test the decoder with a received vector that has two bits flipped.  \n",
    "Since our $[7,4]$ code can only correct single-bit errors, this example demonstrates what happens when more than one error occurs.  \n",
    "The decoder will still return the closest codeword, but it may not match the original message.  \n",
    "We also compare the received vector to the codeword for $[1, 0, 0, 1]$ and display the Hamming distance."
   ]
  },
  {
   "cell_type": "code",
   "execution_count": 8,
   "id": "f563ac2b",
   "metadata": {},
   "outputs": [
    {
     "name": "stdout",
     "output_type": "stream",
     "text": [
      "Original message: [1, 0, 1, 1]\n",
      "Encoded codeword: [1, 0, 1, 1, 0, 1, 0]\n",
      "Received vector (bits [2, 5] flipped): [1, 0, 0, 1, 0, 0, 0]\n",
      "\n",
      "Codeword for message [1, 0, 0, 1]: [1, 0, 0, 1, 0, 0, 1]\n",
      "Hamming distance between received and codeword for [1, 0, 0, 1]: 1\n",
      "\n",
      "Decoded message: [1 0 0 1]\n"
     ]
    }
   ],
   "source": [
    "# Uncorrectable example: flip two bits in a codeword\n",
    "message = [1, 0, 1, 1]\n",
    "codeword = np.dot(message, G) % 2\n",
    "received = codeword.copy()\n",
    "flip_indices = [2, 5]  # Flip two bits\n",
    "for idx in flip_indices:\n",
    "    received[idx] ^= 1\n",
    "\n",
    "print(f\"Original message: {message}\")\n",
    "print(f\"Encoded codeword: {codeword.tolist()}\")\n",
    "print(f\"Received vector (bits {flip_indices} flipped): {received.tolist()}\")\n",
    "\n",
    "# Compare to codeword for [1, 0, 0, 1]\n",
    "other_message = [1, 0, 0, 1]\n",
    "other_codeword = np.dot(other_message, G) % 2\n",
    "hamming_dist = np.sum(received != other_codeword)\n",
    "print(f\"\\nCodeword for message {other_message}: {other_codeword.tolist()}\")\n",
    "print(f\"Hamming distance between received and codeword for {other_message}: {hamming_dist}\")\n",
    "\n",
    "decoded = nn_decoder.decode(received)\n",
    "print(f\"\\nDecoded message: {decoded}\")"
   ]
  },
  {
   "cell_type": "markdown",
   "id": "f91afa5b",
   "metadata": {},
   "source": [
    "## 4. Standard Array Decoder\n",
    "\n",
    "This section is reserved for implementing a standard array decoder in the future.\n",
    "For now, we focus on nearest neighbor and syndrome decoding as foundational tools.\n"
   ]
  },
  {
   "cell_type": "markdown",
   "id": "9721b016",
   "metadata": {},
   "source": [
    "## 5. Syndrome Decoder\n",
    "\n",
    "The syndrome decoder uses the parity-check matrix  $H$ to compute the syndrome of a received word:\n",
    "\n",
    "$$\n",
    "\\mathbf{s} = H \\cdot \\mathbf{r}^T \\mod p\n",
    "$$\n",
    "\n",
    "For single-bit errors, the decoder matches the syndrome to a known error vector, subtracts it from the received word, and returns the corrected codeword.\n"
   ]
  },
  {
   "cell_type": "code",
   "execution_count": 9,
   "id": "75f23658",
   "metadata": {},
   "outputs": [
    {
     "name": "stdout",
     "output_type": "stream",
     "text": [
      "Original message: [1, 0, 1, 1]\n",
      "Encoded codeword: [1, 0, 1, 1, 0, 1, 0]\n",
      "Received (with error): [1, 0, 1, 1, 1, 1, 0]\n",
      "Corrected codeword: [1, 0, 1, 1, 0, 1, 0]\n"
     ]
    }
   ],
   "source": [
    "# Create an instance of the SyndromeDecoder\n",
    "synd_decoder = decoders.SyndromeDecoder(G, p=2)\n",
    "\n",
    "# Choose a message and encode it\n",
    "message = [1, 0, 1, 1]\n",
    "codeword = encode(message, G, 2)\n",
    "\n",
    "# Introduce an error (flip one bit)\n",
    "received = codeword.copy()\n",
    "received[4] ^= 1  # flip bit 4\n",
    "\n",
    "# Decode\n",
    "corrected = synd_decoder.decode(received)\n",
    "\n",
    "print(\"Original message:\", message)\n",
    "print(\"Encoded codeword:\", codeword.tolist())\n",
    "print(\"Received (with error):\", received.tolist())\n",
    "print(\"Corrected codeword:\", corrected.tolist())\n"
   ]
  },
  {
   "cell_type": "markdown",
   "id": "5f9bdc1b",
   "metadata": {},
   "source": [
    "## 6. Summary and Limitations\n",
    "\n",
    "This notebook demonstrates foundational tools for encoding and decoding linear codes,\n",
    "including:\n",
    "\n",
    "- Matrix-based encoding\n",
    "- Nearest neighbor decoding\n",
    "- Syndrome-based single-error correction\n",
    "\n",
    "These tools are not the core focus of this project but provide essential groundwork for advanced decoders based on the **Key Equation** and **Sudan-Guruswami** interpolation. Future work may include expanding the syndrome decoder to correct multiple-bit errors and implementing the standard array decoder.\n",
    "\n",
    "Limitations:\n",
    "- Only binary codes (\\( p = 2 \\)) were used\n",
    "- Syndrome decoder only handles single-bit errors\n",
    "- No minimum distance estimation or advanced algebraic decoding yet\n",
    "\n",
    "Next steps will focus on polynomial representations and key equation solvers."
   ]
  }
 ],
 "metadata": {
  "kernelspec": {
   "display_name": "venv-coding-theory",
   "language": "python",
   "name": "venv-coding-theory"
  },
  "language_info": {
   "codemirror_mode": {
    "name": "ipython",
    "version": 3
   },
   "file_extension": ".py",
   "mimetype": "text/x-python",
   "name": "python",
   "nbconvert_exporter": "python",
   "pygments_lexer": "ipython3",
   "version": "3.9.6"
  }
 },
 "nbformat": 4,
 "nbformat_minor": 5
}
