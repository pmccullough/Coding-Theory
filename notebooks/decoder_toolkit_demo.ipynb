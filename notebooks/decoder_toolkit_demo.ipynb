{
 "cells": [
  {
   "cell_type": "markdown",
   "id": "fbdb310f",
   "metadata": {},
   "source": [
    "# Decoder Toolkit Demo\n",
    "\n",
    "This notebook demonstrates the basics of encoding and decoding with linear codes.  \n",
    "You will see how to:\n",
    "- Encode messages using a generator matrix\n",
    "- Decode received vectors using three different decoders:\n",
    "  - Brute Force Nearest Neighbor Decoder\n",
    "  - Standard Array Decoder\n",
    "  - Syndrome Decoder\n",
    "\n",
    "These tools provide a foundation for more advanced algorithms such as the Key Equation and Sudan-Guruswami decoding."
   ]
  },
  {
   "cell_type": "markdown",
   "id": "e4757250",
   "metadata": {},
   "source": [
    "## Table of Contents\n",
    "\n",
    "[1. Setup and Imports](#1-setup-and-imports)  \n",
    "[2. Generator Matrix & Encoding Examples](#2-generator-matrix--encoding-examples)  \n",
    "[3. Nearest Neighbor Decoder](#3-nearest-neighbor-decoder)  \n",
    "[4. Standard Array Decoder](#4-standard-array-decoder)  \n",
    "[5. Syndrome Decoder](#5-syndrome-decoder)  \n",
    "[6. Summary and Limitations](#6-summary-and-limitations)"
   ]
  },
  {
   "cell_type": "markdown",
   "id": "05cec667",
   "metadata": {},
   "source": [
    "## 1. Setup and Imports\n",
    "\n",
    "This section sets up the Python environment and imports all necessary modules for the notebook.  \n",
    "We ensure that the `src` directory is included in the Python path so that our custom modules (`utils`, `decoders`) can be imported without issues.  \n",
    "All required libraries and code dependencies are loaded here before we begin working with linear codes."
   ]
  },
  {
   "cell_type": "code",
   "execution_count": 1,
   "id": "2e7fe748",
   "metadata": {},
   "outputs": [],
   "source": [
    "import numpy as np\n",
    "import sys\n",
    "import os\n",
    "# Ensure src is in the Python path for module imports\n",
    "SRC_PATH = os.path.abspath(os.path.join(os.getcwd(), '../src'))\n",
    "if SRC_PATH not in sys.path:\n",
    "    sys.path.insert(0, SRC_PATH)\n",
    "from utils import encode\n",
    "from decoders.base import Decoder\n",
    "from decoders.standardarray import StandardArrayDecoder\n",
    "from decoders.syndrome import SyndromeDecoder  "
   ]
  },
  {
   "cell_type": "markdown",
   "id": "84f6fbc7",
   "metadata": {},
   "source": [
    "## 2. Generator Matrix & Encoding Examples\n",
    "We use a binary linear $[7,4]$ code over $\\mathbb{F}_2$ with the following generator matrix:\n",
    "\n",
    "$$\n",
    "G = \\begin{bmatrix}\n",
    "1 & 0 & 0 & 0 & 1 & 1 & 0 \\\\\n",
    "0 & 1 & 0 & 0 & 1 & 0 & 1 \\\\\n",
    "0 & 0 & 1 & 0 & 0 & 1 & 1 \\\\\n",
    "0 & 0 & 0 & 1 & 1 & 1 & 1\n",
    "\\end{bmatrix}\n",
    "$$\n",
    "\n",
    "Each message is a length-4 binary vector. Encoding is performed by multiplying the message by $G$ modulo 2."
   ]
  },
  {
   "cell_type": "code",
   "execution_count": 2,
   "id": "d8347f1f",
   "metadata": {},
   "outputs": [],
   "source": [
    "# Define the generator matrix for the [7,4] binary code\n",
    "G = [\n",
    "    [1, 0, 0, 0, 1, 1, 0],\n",
    "    [0, 1, 0, 0, 1, 0, 1],\n",
    "    [0, 0, 1, 0, 0, 1, 1],\n",
    "    [0, 0, 0, 1, 1, 1, 1]\n",
    "]"
   ]
  },
  {
   "cell_type": "markdown",
   "id": "a9186df9",
   "metadata": {},
   "source": [
    "\n",
    "We now demonstrate how to encode messages using the generator matrix \\( G \\) defined above.\n",
    "\n",
    "Each message is a length-4 binary vector over \\( \\mathbb{F}_2 \\), and encoding is performed via the matrix product:\n",
    "\n",
    "\\[\n",
    "\\mathbf{c} = \\mathbf{u} \\cdot G \\mod 2\n",
    "\\]\n",
    "\n",
    "This produces a codeword of length 7. We'll show a few examples below."
   ]
  },
  {
   "cell_type": "code",
   "execution_count": 3,
   "id": "2227ff6b",
   "metadata": {},
   "outputs": [
    {
     "name": "stdout",
     "output_type": "stream",
     "text": [
      "Encoding with encode(message, G, p):\n",
      "[0, 0, 0, 0] → [0, 0, 0, 0, 0, 0, 0]\n",
      "[1, 0, 0, 1] → [1, 0, 0, 1, 0, 0, 1]\n",
      "[0, 1, 1, 0] → [0, 1, 1, 0, 1, 1, 0]\n",
      "[1, 1, 1, 1] → [1, 1, 1, 1, 1, 1, 1]\n"
     ]
    }
   ],
   "source": [
    "messages = [\n",
    "    [0, 0, 0, 0],\n",
    "    [1, 0, 0, 1],\n",
    "    [0, 1, 1, 0],\n",
    "    [1, 1, 1, 1]\n",
    "]\n",
    "\n",
    "print(\"Encoding with encode(message, G, p):\")\n",
    "for m in messages:\n",
    "    codeword = encode(m, G, 2)\n",
    "    print(f\"{m} → {codeword.tolist()}\")"
   ]
  },
  {
   "cell_type": "markdown",
   "id": "55889782",
   "metadata": {},
   "source": [
    "## 3. Nearest Neighbor Decoder\n",
    "The nearest neighbor decoder finds the codeword closest (in Hamming distance) to the received vector.  \n",
    "This is a brute-force approach and works for any linear code, but is not always efficient for large codes.\n",
    "\n",
    "To begin, create an instance of the `NearestNeighborDecoder` using the generator matrix $G$ and field size $p=2$."
   ]
  },
  {
   "cell_type": "code",
   "execution_count": 4,
   "id": "21e2f00f",
   "metadata": {},
   "outputs": [],
   "source": [
    "# Instantiate the decoder\n",
    "nn_decoder = Decoder(G, p=2)"
   ]
  },
  {
   "cell_type": "markdown",
   "id": "7f9979c4",
   "metadata": {},
   "source": [
    "### Code Parameters\n",
    "\n",
    "Let's display the parameters of our $[n, k]$ code:\n",
    "- $n$: codeword length\n",
    "- $k$: message length\n",
    "- $p$: field size\n",
    "\n",
    "The following cell prints these parameters and the generator matrix."
   ]
  },
  {
   "cell_type": "code",
   "execution_count": 5,
   "id": "1216de91",
   "metadata": {},
   "outputs": [
    {
     "name": "stdout",
     "output_type": "stream",
     "text": [
      "Linear [7, 4] code over 𝔽_2\n",
      "Generator Matrix G:\n",
      "[[1 0 0 0 1 1 0]\n",
      " [0 1 0 0 1 0 1]\n",
      " [0 0 1 0 0 1 1]\n",
      " [0 0 0 1 1 1 1]]\n",
      "Parity-Check Matrix H:\n",
      "[[1 1 0 1 1 0 0]\n",
      " [1 0 1 1 0 1 0]\n",
      " [0 1 1 1 0 0 1]]\n",
      "\n",
      "First few codewords:\n",
      "  [0 0 0 0] → [0 0 0 0 0 0 0]\n",
      "  [0 0 0 1] → [0 0 0 1 1 1 1]\n",
      "  [0 0 1 0] → [0 0 1 0 0 1 1]\n",
      "  [0 0 1 1] → [0 0 1 1 1 0 0]\n",
      "  [0 1 0 0] → [0 1 0 0 1 0 1]\n",
      "  [0 1 0 1] → [0 1 0 1 0 1 0]\n",
      "  [0 1 1 0] → [0 1 1 0 1 1 0]\n",
      "  [0 1 1 1] → [0 1 1 1 0 0 1]\n",
      "...\n"
     ]
    }
   ],
   "source": [
    "nn_decoder.describe()"
   ]
  },
  {
   "cell_type": "markdown",
   "id": "6aacbf3d",
   "metadata": {},
   "source": [
    "### All Codewords in the Code\n",
    "\n",
    "Below are all possible codewords generated by our $[7,4]$ code. Each codeword corresponds to a unique message vector.  \n",
    "This gives a complete picture of the code's structure."
   ]
  },
  {
   "cell_type": "code",
   "execution_count": 6,
   "id": "43bdca23",
   "metadata": {},
   "outputs": [
    {
     "name": "stdout",
     "output_type": "stream",
     "text": [
      "Message  ->  Codeword\n",
      "[0, 0, 0, 0]  ->  [0, 0, 0, 0, 0, 0, 0]\n",
      "[0, 0, 0, 1]  ->  [0, 0, 0, 1, 1, 1, 1]\n",
      "[0, 0, 1, 0]  ->  [0, 0, 1, 0, 0, 1, 1]\n",
      "[0, 0, 1, 1]  ->  [0, 0, 1, 1, 1, 0, 0]\n",
      "[0, 1, 0, 0]  ->  [0, 1, 0, 0, 1, 0, 1]\n",
      "[0, 1, 0, 1]  ->  [0, 1, 0, 1, 0, 1, 0]\n",
      "[0, 1, 1, 0]  ->  [0, 1, 1, 0, 1, 1, 0]\n",
      "[0, 1, 1, 1]  ->  [0, 1, 1, 1, 0, 0, 1]\n",
      "[1, 0, 0, 0]  ->  [1, 0, 0, 0, 1, 1, 0]\n",
      "[1, 0, 0, 1]  ->  [1, 0, 0, 1, 0, 0, 1]\n",
      "[1, 0, 1, 0]  ->  [1, 0, 1, 0, 1, 0, 1]\n",
      "[1, 0, 1, 1]  ->  [1, 0, 1, 1, 0, 1, 0]\n",
      "[1, 1, 0, 0]  ->  [1, 1, 0, 0, 0, 1, 1]\n",
      "[1, 1, 0, 1]  ->  [1, 1, 0, 1, 1, 0, 0]\n",
      "[1, 1, 1, 0]  ->  [1, 1, 1, 0, 0, 0, 0]\n",
      "[1, 1, 1, 1]  ->  [1, 1, 1, 1, 1, 1, 1]\n"
     ]
    }
   ],
   "source": [
    "nn_decoder.display_code()"
   ]
  },
  {
   "cell_type": "markdown",
   "id": "c4e11469",
   "metadata": {},
   "source": [
    "### Decoding Example Received Vectors\n",
    "\n",
    "We will decode several received vectors, including both valid codewords and vectors with single-bit errors.  \n",
    "The decoder will return the closest valid message for each received vector."
   ]
  },
  {
   "cell_type": "code",
   "execution_count": 7,
   "id": "061d50b4",
   "metadata": {},
   "outputs": [
    {
     "name": "stdout",
     "output_type": "stream",
     "text": [
      "Message: [1, 0, 1, 1]\n",
      "Encoded : [1, 0, 1, 1, 0, 1, 0]\n",
      "Received: [1, 0, 1, 1, 0, 1, 0]\n",
      "Decoded : [1 0 1 1]\n",
      "----------------------------------------\n",
      "Message: [1, 0, 1, 1]\n",
      "Encoded : [1, 0, 1, 1, 0, 1, 0]\n",
      "Received: [1, 0, 1, 1, 1, 1, 0] (bit 4 flipped)\n",
      "Decoded : [1 0 1 1]\n",
      "----------------------------------------\n",
      "Message: [0, 1, 0, 0]\n",
      "Encoded : [0, 1, 0, 0, 1, 0, 1]\n",
      "Received: [0, 1, 1, 0, 1, 0, 1] (bit 2 flipped)\n",
      "Decoded : [0 1 0 0]\n",
      "----------------------------------------\n",
      "Message: [1, 1, 1, 1]\n",
      "Encoded : [1, 1, 1, 1, 1, 1, 1]\n",
      "Received: [1, 1, 1, 1, 1, 1, 0] (bit 6 flipped)\n",
      "Decoded : [1 1 1 1]\n",
      "----------------------------------------\n"
     ]
    }
   ],
   "source": [
    "# Messages and intentionally corrupted versions\n",
    "examples = [\n",
    "    ([1, 0, 1, 1], None),          # Valid message, no corruption\n",
    "    ([1, 0, 1, 1], 4),             # Flip bit 4 → single-bit error\n",
    "    ([0, 1, 0, 0], 2),             # Flip bit 2\n",
    "    ([1, 1, 1, 1], 6),             # Flip bit 6\n",
    "]\n",
    "\n",
    "for message, flip_index in examples:\n",
    "    codeword = np.dot(message, G) % 2\n",
    "    received = codeword.copy()\n",
    "    if flip_index is not None:\n",
    "        received[flip_index] ^= 1\n",
    "    decoded = nn_decoder.decode(received)\n",
    "    print(f\"Message: {message}\")\n",
    "    print(f\"Encoded : {codeword.tolist()}\")\n",
    "    print(f\"Received: {received.tolist()} (bit {flip_index} flipped)\" if flip_index is not None else f\"Received: {received.tolist()}\")\n",
    "    print(f\"Decoded : {decoded}\")\n",
    "    print(\"-\" * 40)"
   ]
  },
  {
   "cell_type": "markdown",
   "id": "d70ddde4",
   "metadata": {},
   "source": [
    "### Uncorrectable Example: Two-Bit Error\n",
    "\n",
    "Now we test the decoder with a received vector that has two bits flipped.  \n",
    "Since our $[7,4]$ code can only correct single-bit errors, this example demonstrates what happens when more than one error occurs.  \n",
    "The decoder will still return the closest codeword, but it may not match the original message.  \n",
    "We also compare the received vector to the codeword for $[1, 0, 0, 1]$ and display the Hamming distance."
   ]
  },
  {
   "cell_type": "code",
   "execution_count": 8,
   "id": "f563ac2b",
   "metadata": {},
   "outputs": [
    {
     "name": "stdout",
     "output_type": "stream",
     "text": [
      "Original message: [1, 0, 1, 1]\n",
      "Encoded codeword: [1, 0, 1, 1, 0, 1, 0]\n",
      "Received vector (bits [2, 5] flipped): [1, 0, 0, 1, 0, 0, 0]\n",
      "\n",
      "Codeword for message [1, 0, 0, 1]: [1, 0, 0, 1, 0, 0, 1]\n",
      "Hamming distance between received and codeword for [1, 0, 0, 1]: 1\n",
      "\n",
      "Decoded message: [1 0 0 1]\n"
     ]
    }
   ],
   "source": [
    "# Uncorrectable example: flip two bits in a codeword\n",
    "message = [1, 0, 1, 1]\n",
    "codeword = np.dot(message, G) % 2\n",
    "received = codeword.copy()\n",
    "flip_indices = [2, 5]  # Flip two bits\n",
    "for idx in flip_indices:\n",
    "    received[idx] ^= 1\n",
    "\n",
    "print(f\"Original message: {message}\")\n",
    "print(f\"Encoded codeword: {codeword.tolist()}\")\n",
    "print(f\"Received vector (bits {flip_indices} flipped): {received.tolist()}\")\n",
    "\n",
    "# Compare to codeword for [1, 0, 0, 1]\n",
    "other_message = [1, 0, 0, 1]\n",
    "other_codeword = np.dot(other_message, G) % 2\n",
    "hamming_dist = np.sum(received != other_codeword)\n",
    "print(f\"\\nCodeword for message {other_message}: {other_codeword.tolist()}\")\n",
    "print(f\"Hamming distance between received and codeword for {other_message}: {hamming_dist}\")\n",
    "\n",
    "decoded = nn_decoder.decode(received)\n",
    "print(f\"\\nDecoded message: {decoded}\")"
   ]
  },
  {
   "cell_type": "markdown",
   "id": "f91afa5b",
   "metadata": {},
   "source": [
    "## 4. Standard Array Decoder\n",
    "\n",
    "The standard array decoder partitions the space of received vectors into cosets and decodes by finding the coset leader. This approach is systematic and works for any linear code."
   ]
  },
  {
   "cell_type": "code",
   "execution_count": 9,
   "id": "6cb0bdbd",
   "metadata": {},
   "outputs": [],
   "source": [
    "# Create an instance of the StandardArrayDecoder\n",
    "std_array_decoder = StandardArrayDecoder(G, p=2)"
   ]
  },
  {
   "cell_type": "code",
   "execution_count": 10,
   "id": "9e96a4d4",
   "metadata": {},
   "outputs": [
    {
     "name": "stdout",
     "output_type": "stream",
     "text": [
      "Coset leaders:\n",
      "0: [0, 0, 0, 0, 0, 0, 0]\n",
      "1: [0, 0, 0, 0, 0, 0, 1]\n",
      "2: [0, 0, 0, 0, 0, 1, 0]\n",
      "3: [0, 0, 0, 0, 1, 0, 0]\n",
      "4: [0, 0, 0, 1, 0, 0, 0]\n",
      "5: [0, 0, 1, 0, 0, 0, 0]\n",
      "6: [0, 1, 0, 0, 0, 0, 0]\n",
      "7: [1, 0, 0, 0, 0, 0, 0]\n",
      "Standard Array:\n",
      "Leader 0:\n",
      "  [0, 0, 0, 0, 0, 0, 0]\n",
      "  [0, 0, 0, 1, 1, 1, 1]\n",
      "  [0, 0, 1, 0, 0, 1, 1]\n",
      "  [0, 0, 1, 1, 1, 0, 0]\n",
      "  [0, 1, 0, 0, 1, 0, 1]\n",
      "  [0, 1, 0, 1, 0, 1, 0]\n",
      "  [0, 1, 1, 0, 1, 1, 0]\n",
      "  [0, 1, 1, 1, 0, 0, 1]\n",
      "  [1, 0, 0, 0, 1, 1, 0]\n",
      "  [1, 0, 0, 1, 0, 0, 1]\n",
      "  [1, 0, 1, 0, 1, 0, 1]\n",
      "  [1, 0, 1, 1, 0, 1, 0]\n",
      "  [1, 1, 0, 0, 0, 1, 1]\n",
      "  [1, 1, 0, 1, 1, 0, 0]\n",
      "  [1, 1, 1, 0, 0, 0, 0]\n",
      "  [1, 1, 1, 1, 1, 1, 1]\n",
      "Leader 1:\n",
      "  [0, 0, 0, 0, 0, 0, 1]\n",
      "  [0, 0, 0, 1, 1, 1, 0]\n",
      "  [0, 0, 1, 0, 0, 1, 0]\n",
      "  [0, 0, 1, 1, 1, 0, 1]\n",
      "  [0, 1, 0, 0, 1, 0, 0]\n",
      "  [0, 1, 0, 1, 0, 1, 1]\n",
      "  [0, 1, 1, 0, 1, 1, 1]\n",
      "  [0, 1, 1, 1, 0, 0, 0]\n",
      "  [1, 0, 0, 0, 1, 1, 1]\n",
      "  [1, 0, 0, 1, 0, 0, 0]\n",
      "  [1, 0, 1, 0, 1, 0, 0]\n",
      "  [1, 0, 1, 1, 0, 1, 1]\n",
      "  [1, 1, 0, 0, 0, 1, 0]\n",
      "  [1, 1, 0, 1, 1, 0, 1]\n",
      "  [1, 1, 1, 0, 0, 0, 1]\n",
      "  [1, 1, 1, 1, 1, 1, 0]\n",
      "Leader 2:\n",
      "  [0, 0, 0, 0, 0, 1, 0]\n",
      "  [0, 0, 0, 1, 1, 0, 1]\n",
      "  [0, 0, 1, 0, 0, 0, 1]\n",
      "  [0, 0, 1, 1, 1, 1, 0]\n",
      "  [0, 1, 0, 0, 1, 1, 1]\n",
      "  [0, 1, 0, 1, 0, 0, 0]\n",
      "  [0, 1, 1, 0, 1, 0, 0]\n",
      "  [0, 1, 1, 1, 0, 1, 1]\n",
      "  [1, 0, 0, 0, 1, 0, 0]\n",
      "  [1, 0, 0, 1, 0, 1, 1]\n",
      "  [1, 0, 1, 0, 1, 1, 1]\n",
      "  [1, 0, 1, 1, 0, 0, 0]\n",
      "  [1, 1, 0, 0, 0, 0, 1]\n",
      "  [1, 1, 0, 1, 1, 1, 0]\n",
      "  [1, 1, 1, 0, 0, 1, 0]\n",
      "  [1, 1, 1, 1, 1, 0, 1]\n",
      "Leader 3:\n",
      "  [0, 0, 0, 0, 1, 0, 0]\n",
      "  [0, 0, 0, 1, 0, 1, 1]\n",
      "  [0, 0, 1, 0, 1, 1, 1]\n",
      "  [0, 0, 1, 1, 0, 0, 0]\n",
      "  [0, 1, 0, 0, 0, 0, 1]\n",
      "  [0, 1, 0, 1, 1, 1, 0]\n",
      "  [0, 1, 1, 0, 0, 1, 0]\n",
      "  [0, 1, 1, 1, 1, 0, 1]\n",
      "  [1, 0, 0, 0, 0, 1, 0]\n",
      "  [1, 0, 0, 1, 1, 0, 1]\n",
      "  [1, 0, 1, 0, 0, 0, 1]\n",
      "  [1, 0, 1, 1, 1, 1, 0]\n",
      "  [1, 1, 0, 0, 1, 1, 1]\n",
      "  [1, 1, 0, 1, 0, 0, 0]\n",
      "  [1, 1, 1, 0, 1, 0, 0]\n",
      "  [1, 1, 1, 1, 0, 1, 1]\n",
      "Leader 4:\n",
      "  [0, 0, 0, 1, 0, 0, 0]\n",
      "  [0, 0, 0, 0, 1, 1, 1]\n",
      "  [0, 0, 1, 1, 0, 1, 1]\n",
      "  [0, 0, 1, 0, 1, 0, 0]\n",
      "  [0, 1, 0, 1, 1, 0, 1]\n",
      "  [0, 1, 0, 0, 0, 1, 0]\n",
      "  [0, 1, 1, 1, 1, 1, 0]\n",
      "  [0, 1, 1, 0, 0, 0, 1]\n",
      "  [1, 0, 0, 1, 1, 1, 0]\n",
      "  [1, 0, 0, 0, 0, 0, 1]\n",
      "  [1, 0, 1, 1, 1, 0, 1]\n",
      "  [1, 0, 1, 0, 0, 1, 0]\n",
      "  [1, 1, 0, 1, 0, 1, 1]\n",
      "  [1, 1, 0, 0, 1, 0, 0]\n",
      "  [1, 1, 1, 1, 0, 0, 0]\n",
      "  [1, 1, 1, 0, 1, 1, 1]\n",
      "Leader 5:\n",
      "  [0, 0, 1, 0, 0, 0, 0]\n",
      "  [0, 0, 1, 1, 1, 1, 1]\n",
      "  [0, 0, 0, 0, 0, 1, 1]\n",
      "  [0, 0, 0, 1, 1, 0, 0]\n",
      "  [0, 1, 1, 0, 1, 0, 1]\n",
      "  [0, 1, 1, 1, 0, 1, 0]\n",
      "  [0, 1, 0, 0, 1, 1, 0]\n",
      "  [0, 1, 0, 1, 0, 0, 1]\n",
      "  [1, 0, 1, 0, 1, 1, 0]\n",
      "  [1, 0, 1, 1, 0, 0, 1]\n",
      "  [1, 0, 0, 0, 1, 0, 1]\n",
      "  [1, 0, 0, 1, 0, 1, 0]\n",
      "  [1, 1, 1, 0, 0, 1, 1]\n",
      "  [1, 1, 1, 1, 1, 0, 0]\n",
      "  [1, 1, 0, 0, 0, 0, 0]\n",
      "  [1, 1, 0, 1, 1, 1, 1]\n",
      "Leader 6:\n",
      "  [0, 1, 0, 0, 0, 0, 0]\n",
      "  [0, 1, 0, 1, 1, 1, 1]\n",
      "  [0, 1, 1, 0, 0, 1, 1]\n",
      "  [0, 1, 1, 1, 1, 0, 0]\n",
      "  [0, 0, 0, 0, 1, 0, 1]\n",
      "  [0, 0, 0, 1, 0, 1, 0]\n",
      "  [0, 0, 1, 0, 1, 1, 0]\n",
      "  [0, 0, 1, 1, 0, 0, 1]\n",
      "  [1, 1, 0, 0, 1, 1, 0]\n",
      "  [1, 1, 0, 1, 0, 0, 1]\n",
      "  [1, 1, 1, 0, 1, 0, 1]\n",
      "  [1, 1, 1, 1, 0, 1, 0]\n",
      "  [1, 0, 0, 0, 0, 1, 1]\n",
      "  [1, 0, 0, 1, 1, 0, 0]\n",
      "  [1, 0, 1, 0, 0, 0, 0]\n",
      "  [1, 0, 1, 1, 1, 1, 1]\n",
      "Leader 7:\n",
      "  [1, 0, 0, 0, 0, 0, 0]\n",
      "  [1, 0, 0, 1, 1, 1, 1]\n",
      "  [1, 0, 1, 0, 0, 1, 1]\n",
      "  [1, 0, 1, 1, 1, 0, 0]\n",
      "  [1, 1, 0, 0, 1, 0, 1]\n",
      "  [1, 1, 0, 1, 0, 1, 0]\n",
      "  [1, 1, 1, 0, 1, 1, 0]\n",
      "  [1, 1, 1, 1, 0, 0, 1]\n",
      "  [0, 0, 0, 0, 1, 1, 0]\n",
      "  [0, 0, 0, 1, 0, 0, 1]\n",
      "  [0, 0, 1, 0, 1, 0, 1]\n",
      "  [0, 0, 1, 1, 0, 1, 0]\n",
      "  [0, 1, 0, 0, 0, 1, 1]\n",
      "  [0, 1, 0, 1, 1, 0, 0]\n",
      "  [0, 1, 1, 0, 0, 0, 0]\n",
      "  [0, 1, 1, 1, 1, 1, 1]\n"
     ]
    }
   ],
   "source": [
    "std_array_decoder.display_coset_leaders()\n",
    "std_array_decoder.display_standard_array()"
   ]
  },
  {
   "cell_type": "code",
   "execution_count": 11,
   "id": "828e6bb4",
   "metadata": {},
   "outputs": [
    {
     "name": "stdout",
     "output_type": "stream",
     "text": [
      "Original message: [1, 0, 1, 1]\n",
      "Encoded codeword: [1, 0, 1, 1, 0, 1, 0]\n",
      "Received (with error): [1, 0, 1, 1, 1, 1, 0]\n",
      "Decoded codeword: [1, 0, 1, 1, 0, 1, 0]\n"
     ]
    }
   ],
   "source": [
    "# Example: decode a codeword with a single-bit error using the standard array decoder\n",
    "message = [1, 0, 1, 1]\n",
    "codeword = encode(message, G, 2)\n",
    "received = codeword.copy()\n",
    "received[4] ^= 1  # flip bit 4\n",
    "\n",
    "decoded = std_array_decoder.decode(received)\n",
    "\n",
    "print(\"Original message:\", message)\n",
    "print(\"Encoded codeword:\", codeword.tolist())\n",
    "print(\"Received (with error):\", received.tolist())\n",
    "print(\"Decoded codeword:\", decoded.tolist())"
   ]
  },
  {
   "cell_type": "markdown",
   "id": "9721b016",
   "metadata": {},
   "source": [
    "## 5. Syndrome Decoder\n",
    "\n",
    "The syndrome decoder uses the parity-check matrix  $H$ to compute the syndrome of a received word:\n",
    "\n",
    "$$\n",
    "\\mathbf{s} = H \\cdot \\mathbf{r}^T \\mod p\n",
    "$$\n",
    "\n",
    "For single-bit errors, the decoder matches the syndrome to a known error vector, subtracts it from the received word, and returns the corrected codeword.\n"
   ]
  },
  {
   "cell_type": "code",
   "execution_count": 12,
   "id": "17ffa38f",
   "metadata": {},
   "outputs": [],
   "source": [
    "# Create an instance of the SyndromeDecoder\n",
    "synd_decoder = SyndromeDecoder(G, p=2)"
   ]
  },
  {
   "cell_type": "code",
   "execution_count": 13,
   "id": "75f23658",
   "metadata": {},
   "outputs": [
    {
     "name": "stdout",
     "output_type": "stream",
     "text": [
      "Original message: [1, 0, 1, 1]\n",
      "Encoded codeword: [1, 0, 1, 1, 0, 1, 0]\n",
      "Received (with error): [1, 0, 1, 1, 1, 1, 0]\n",
      "Corrected codeword: [1, 0, 1, 1, 0, 1, 0]\n"
     ]
    }
   ],
   "source": [
    "# Choose a message and encode it\n",
    "message = [1, 0, 1, 1]\n",
    "codeword = encode(message, G, 2)\n",
    "\n",
    "# Introduce an error (flip one bit)\n",
    "received = codeword.copy()\n",
    "received[4] ^= 1  # flip bit 4\n",
    "\n",
    "# Decode\n",
    "corrected = synd_decoder.decode(received)\n",
    "\n",
    "print(\"Original message:\", message)\n",
    "print(\"Encoded codeword:\", codeword.tolist())\n",
    "print(\"Received (with error):\", received.tolist())\n",
    "print(\"Corrected codeword:\", corrected.tolist())\n"
   ]
  },
  {
   "cell_type": "markdown",
   "id": "5f9bdc1b",
   "metadata": {},
   "source": [
    "## 6. Summary and Limitations\n",
    "\n",
    "This notebook demonstrated:\n",
    "- Matrix-based encoding\n",
    "- Nearest neighbor decoding\n",
    "- Standard array decoding\n",
    "- Syndrome-based single-error correction\n",
    "\n",
    "**Limitations:**\n",
    "- Only binary codes ($p=2$) were used\n",
    "- Syndrome decoder only handles single-bit errors\n",
    "- No minimum distance estimation or advanced algebraic decoding yet\n",
    "\n",
    "**Next steps:**  \n",
    "Explore polynomial representations and implement key equation solvers for more advanced decoding."
   ]
  }
 ],
 "metadata": {
  "kernelspec": {
   "display_name": "venv",
   "language": "python",
   "name": "python3"
  },
  "language_info": {
   "codemirror_mode": {
    "name": "ipython",
    "version": 3
   },
   "file_extension": ".py",
   "mimetype": "text/x-python",
   "name": "python",
   "nbconvert_exporter": "python",
   "pygments_lexer": "ipython3",
   "version": "3.12.3"
  }
 },
 "nbformat": 4,
 "nbformat_minor": 5
}
