{
 "cells": [
  {
   "cell_type": "markdown",
   "id": "15d90b8c",
   "metadata": {},
   "source": [
    "# Encoder Demo\n",
    "\n",
    "This notebook demonstrates how to use the `Encoder` class to encode messages into codewords using a linear block code. The encoder uses a generator matrix to map messages (of length `k`) to codewords (of length `n`) over a finite field of size `p`."
   ]
  },
  {
   "cell_type": "markdown",
   "id": "ea65d8b5",
   "metadata": {},
   "source": [
    "## Importing the Encoder\n",
    "\n",
    "We import the `Encoder` class from the `src` directory and create an instance with default parameters."
   ]
  },
  {
   "cell_type": "code",
   "execution_count": 3,
   "id": "12d670a4",
   "metadata": {},
   "outputs": [],
   "source": [
    "import sys\n",
    "import os\n",
    "sys.path.append(os.path.abspath(\"../src\"))\n",
    "from encoder import Encoder"
   ]
  },
  {
   "cell_type": "code",
   "execution_count": 11,
   "id": "7dfc2a34",
   "metadata": {},
   "outputs": [],
   "source": [
    "encoder = Encoder()"
   ]
  },
  {
   "cell_type": "markdown",
   "id": "39d887a0",
   "metadata": {},
   "source": [
    "## Encoder Parameters\n",
    "\n",
    "Let's display the parameters of the encoder, including the codeword length (`n`), message length (`k`), field size (`p`), and the generator matrix (`G`).\n",
    "\n",
    "By default, the encoder is for the binary code ($p=2$) of length 6 ($n=6$) and dimension 3 ($k=3$), given by the generator matrix:\n",
    "$$\n",
    "G = \\begin{bmatrix}\n",
    "1 & 0 & 0 & 1 & 1 & 0 \\\\\n",
    "0 & 1 & 0 & 1 & 0 & 1 \\\\\n",
    "0 & 0 & 1 & 0 & 1 & 1\n",
    "\\end{bmatrix}\n",
    "$$"
   ]
  },
  {
   "cell_type": "code",
   "execution_count": 5,
   "id": "5ac1d2de",
   "metadata": {},
   "outputs": [
    {
     "name": "stdout",
     "output_type": "stream",
     "text": [
      "n =: 6\n",
      "k =: 3\n",
      "p =: 2\n",
      "Generator Matrix: [[1 0 0 1 1 0]\n",
      " [0 1 0 1 0 1]\n",
      " [0 0 1 0 1 1]]\n"
     ]
    }
   ],
   "source": [
    "print(\"n =:\", encoder.n)\n",
    "print(\"k =:\", encoder.k)\n",
    "print(\"p =:\", encoder.p)\n",
    "print(\"Generator Matrix:\", encoder.G)"
   ]
  },
  {
   "cell_type": "markdown",
   "id": "98779e75",
   "metadata": {},
   "source": [
    "## Encoding Example Messages\n",
    "\n",
    "We encode several example messages using the encoder and display their corresponding codewords."
   ]
  },
  {
   "cell_type": "code",
   "execution_count": 6,
   "id": "5d97bfb7",
   "metadata": {},
   "outputs": [
    {
     "name": "stdout",
     "output_type": "stream",
     "text": [
      "Message:  [0, 0, 0]\n",
      "Codeword: [0, 0, 0, 0, 0, 0]\n",
      "------------------------------\n",
      "Message:  [1, 0, 1]\n",
      "Codeword: [1, 0, 1, 1, 0, 1]\n",
      "------------------------------\n",
      "Message:  [1, 1, 1]\n",
      "Codeword: [1, 1, 1, 0, 0, 0]\n",
      "------------------------------\n"
     ]
    }
   ],
   "source": [
    "examples = [\n",
    "    [0, 0, 0],\n",
    "    [1, 0, 1],\n",
    "    [1, 1, 1]\n",
    "]\n",
    "\n",
    "for message in examples:\n",
    "    codeword = encoder.encode(message)\n",
    "    print(f\"Message:  {message}\")\n",
    "    print(f\"Codeword: {codeword.tolist()}\")\n",
    "    print(\"-\" * 30)"
   ]
  },
  {
   "cell_type": "markdown",
   "id": "f562f3a7",
   "metadata": {},
   "source": [
    "### Invalid Input Examples\n",
    "\n",
    "The following examples test the robustness of the encoder against improper inputs. These inputs are intentionally malformed to trigger validation errors and demonstrate that the encoder safely handles edge cases.\n",
    "\n",
    "We test for:\n",
    "\n",
    "- **Messages of incorrect length**  \n",
    "  These do not match the expected dimension \\( k = 3 \\)\n",
    "\n",
    "- **Message values outside the valid field**  \n",
    "  Since we are working in \\( \\mathbb{F}_2 = \\{0, 1\\} \\), any other value is invalid\n",
    "\n",
    "These cases should raise informative `ValueError`s and help ensure the encoder is not used incorrectly.\n"
   ]
  },
  {
   "cell_type": "code",
   "execution_count": null,
   "id": "29661deb",
   "metadata": {},
   "outputs": [
    {
     "name": "stdout",
     "output_type": "stream",
     "text": [
      "Error: Message length must be 3.\n",
      "Error: Message length must be 3.\n"
     ]
    }
   ],
   "source": [
    "try:\n",
    "    encoder.encode([1, 0])     # Too short\n",
    "except ValueError as e:\n",
    "    print(f\"Error: {e}\")\n",
    "try:\n",
    "    encoder.encode([1, 0, 1, 1, 0])  # Too long\n",
    "except ValueError as e:\n",
    "    print(f\"Error: {e}\")\n"
   ]
  },
  {
   "cell_type": "code",
   "execution_count": 13,
   "id": "6e349c75",
   "metadata": {},
   "outputs": [],
   "source": [
    "try:\n",
    "    encoder.encode([1, 0, 2])  # Invalid value in F_2\n",
    "except ValueError as e:\n",
    "    print(f\"Error: {e}\")"
   ]
  }
 ],
 "metadata": {
  "kernelspec": {
   "display_name": "venv-coding-theory",
   "language": "python",
   "name": "venv-coding-theory"
  },
  "language_info": {
   "codemirror_mode": {
    "name": "ipython",
    "version": 3
   },
   "file_extension": ".py",
   "mimetype": "text/x-python",
   "name": "python",
   "nbconvert_exporter": "python",
   "pygments_lexer": "ipython3",
   "version": "3.9.6"
  }
 },
 "nbformat": 4,
 "nbformat_minor": 5
}
