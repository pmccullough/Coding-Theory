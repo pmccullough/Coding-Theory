{
 "cells": [
  {
   "cell_type": "markdown",
   "id": "7c717091",
   "metadata": {},
   "source": [
    "# Galois Field Demonstrations\n",
    "\n",
    "This notebook demonstrates arithmetic in finite fields $GF(p^m)$, following Chapter 5 of the course notes.\n",
    "\n",
    "We will:\n",
    "- Construct $GF(p^m)$ using an irreducible (primitive) polynomial.\n",
    "- Perform addition and multiplication in the field.\n",
    "- List all elements of the field in both integer and polynomial (list) representation.\n",
    "- Compute powers of a primitive element.\n",
    "- Verify examples from the notes."
   ]
  },
  {
   "cell_type": "markdown",
   "id": "df469991",
   "metadata": {},
   "source": [
    "## Setup and Imports\n",
    "\n",
    "We import the `GF` class, which implements arithmetic in $GF(p^m)$, and set up the Python environment."
   ]
  },
  {
   "cell_type": "code",
   "execution_count": 1,
   "id": "24a8da71",
   "metadata": {},
   "outputs": [],
   "source": [
    "import numpy as np\n",
    "import sys\n",
    "import os\n",
    "# Ensure src is in the Python path for module imports\n",
    "SRC_PATH = os.path.abspath(os.path.join(os.getcwd(), '../src'))\n",
    "if SRC_PATH not in sys.path:\n",
    "    sys.path.insert(0, SRC_PATH)\n",
    "from codes.gf import GF"
   ]
  },
  {
   "cell_type": "markdown",
   "id": "276c1398",
   "metadata": {},
   "source": [
    "## Constructing $GF(8)$\n",
    "\n",
    "We construct the field $GF(8)$ using the primitive polynomial $x^3 + x + 1$. In binary, this polynomial is represented as `[1, 1, 0, 1]` (corresponding to $1 + x + x^3$).\n",
    "\n",
    "The field has $2^3 = 8$ elements."
   ]
  },
  {
   "cell_type": "code",
   "execution_count": 2,
   "id": "ee736c5b",
   "metadata": {},
   "outputs": [],
   "source": [
    "# Example: GF(8) with primitive polynomial x^3 + x + 1\n",
    "gf8 = GF(2, 3, [1, 1, 0, 1])  # binary polynomial: 1 + x + x^3"
   ]
  },
  {
   "cell_type": "markdown",
   "id": "dbde0dc2",
   "metadata": {},
   "source": [
    "## Table of All Elements in $GF(8)$\n",
    "\n",
    "Below, each element of $GF(8)$ is shown in three forms:\n",
    "- **Binary representation** (as a 3-bit string)\n",
    "- **Power of the primitive element $\\alpha$** (with $\\alpha = x$), or `0` for the zero element\n",
    "- **Polynomial (list) representation**"
   ]
  },
  {
   "cell_type": "code",
   "execution_count": 3,
   "id": "19dec61b",
   "metadata": {},
   "outputs": [
    {
     "name": "stdout",
     "output_type": "stream",
     "text": [
      "  Binary | Alpha Power |      Polynomial\n",
      "----------------------------------------\n",
      "     001 |        α^0 |               1\n",
      "     010 |        α^1 |               α\n",
      "     100 |        α^2 |             α^2\n",
      "     011 |        α^3 |           1 + α\n",
      "     110 |        α^4 |         α + α^2\n",
      "     111 |        α^5 |     1 + α + α^2\n",
      "     101 |        α^6 |         1 + α^2\n"
     ]
    }
   ],
   "source": [
    "gf8.print_elements_table()"
   ]
  },
  {
   "cell_type": "code",
   "execution_count": null,
   "id": "de5fafb9",
   "metadata": {},
   "outputs": [],
   "source": []
  },
  {
   "cell_type": "markdown",
   "id": "03e6010f",
   "metadata": {},
   "source": [
    "## Addition Example\n",
    "\n",
    "We demonstrate addition in $GF(8)$ by adding $\\alpha$ and $\\alpha^2$. The result is $\\alpha + \\alpha^2$."
   ]
  },
  {
   "cell_type": "code",
   "execution_count": 4,
   "id": "2a7ada28",
   "metadata": {},
   "outputs": [
    {
     "name": "stdout",
     "output_type": "stream",
     "text": [
      "Addition result: 6\n"
     ]
    }
   ],
   "source": [
    "a = [0,1,0]\n",
    "b = [0,0,1]\n",
    "\n",
    "result = gf8.add(a, b)  # Should return [0, 1, 1] (binary addition)\n",
    "print(f\"Addition result: {result}\")\n"
   ]
  },
  {
   "cell_type": "markdown",
   "id": "b6475ca1",
   "metadata": {},
   "source": [
    "Note that the result from the addition is the integer 6. Note in the table above that $\\alpha$ is $010$ in binary representation and $\\alpha^2$ is $100$ in binary reprentation. The sum of this in binary is $110$ which is the same as the integer 6. We can print this result in polynomial format using the `poly_str` mehtod."
   ]
  },
  {
   "cell_type": "code",
   "execution_count": 5,
   "id": "7db999d4",
   "metadata": {},
   "outputs": [
    {
     "name": "stdout",
     "output_type": "stream",
     "text": [
      "α + α^2\n"
     ]
    }
   ],
   "source": [
    "print(gf8.poly_str(result))"
   ]
  },
  {
   "cell_type": "markdown",
   "id": "d4ddb624",
   "metadata": {},
   "source": [
    "## Multiplication Example\n",
    "\n",
    "We demonstrate multiplication in $GF(8)$ by multiplying $x$ and $x^2$. The result is $x^3$, which is reduced modulo the primitive polynomial $x^3 + x + 1$."
   ]
  },
  {
   "cell_type": "code",
   "execution_count": 6,
   "id": "d7cb3f9d",
   "metadata": {},
   "outputs": [
    {
     "name": "stdout",
     "output_type": "stream",
     "text": [
      "α * α^2 = 1 + α\n"
     ]
    }
   ],
   "source": [
    "prod_result = gf8.mul(a, b)\n",
    "print(\"\\u03B1 * \\u03B1^2 =\", gf8.poly_str(prod_result))"
   ]
  }
 ],
 "metadata": {
  "kernelspec": {
   "display_name": "venv",
   "language": "python",
   "name": "python3"
  },
  "language_info": {
   "codemirror_mode": {
    "name": "ipython",
    "version": 3
   },
   "file_extension": ".py",
   "mimetype": "text/x-python",
   "name": "python",
   "nbconvert_exporter": "python",
   "pygments_lexer": "ipython3",
   "version": "3.12.3"
  }
 },
 "nbformat": 4,
 "nbformat_minor": 5
}
