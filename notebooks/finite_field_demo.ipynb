{
 "cells": [
  {
   "cell_type": "markdown",
   "id": "7c717091",
   "metadata": {},
   "source": [
    "# Galois Field Demonstrations\n",
    "\n",
    "This notebook demonstrates arithmetic in $GF(2^m)$ for various $m$, including addition, multiplication, and polynomial representations. We construct and display elements of finite fields, showing their integer, binary, primitive element, and polynomial forms."
   ]
  },
  {
   "cell_type": "markdown",
   "id": "df469991",
   "metadata": {},
   "source": [
    "## Setup and Imports\n",
    "\n",
    "We import the `GF` class, which implements arithmetic in $GF(p^m)$, and set up the Python environment for our coding theory demonstrations."
   ]
  },
  {
   "cell_type": "code",
   "execution_count": 1,
   "id": "24a8da71",
   "metadata": {},
   "outputs": [],
   "source": [
    "import numpy as np\n",
    "import sys\n",
    "import os\n",
    "# Ensure src is in the Python path for module imports\n",
    "SRC_PATH = os.path.abspath(os.path.join(os.getcwd(), '../src'))\n",
    "if SRC_PATH not in sys.path:\n",
    "    sys.path.insert(0, SRC_PATH)\n",
    "from codes.gf import GF\n",
    "from codes.bch import BCH\n",
    "from utils import encode, poly_to_string"
   ]
  },
  {
   "cell_type": "markdown",
   "id": "276c1398",
   "metadata": {},
   "source": [
    "## Constructing $GF(8)$\n",
    "\n",
    "We construct the field $GF(8)$ using the primitive polynomial $x^3 + x + 1$. In binary, this polynomial is represented as `[1, 1, 0, 1]` (corresponding to $1 + x + x^3$).\n",
    "\n",
    "The field has $2^3 = 8$ elements."
   ]
  },
  {
   "cell_type": "code",
   "execution_count": 2,
   "id": "ee736c5b",
   "metadata": {},
   "outputs": [],
   "source": [
    "# Example: GF(8) with primitive polynomial x^3 + x + 1\n",
    "gf8 = GF(2, 3, [1, 1, 0, 1])  # binary polynomial: 1 + x + x^3"
   ]
  },
  {
   "cell_type": "markdown",
   "id": "dbde0dc2",
   "metadata": {},
   "source": [
    "## Table of All Elements in $GF(8)$\n",
    "\n",
    "Below, each element of $GF(8)$ is shown in four forms:\n",
    "- **Integer representation** (0 to 7)\n",
    "- **Binary representation** (as a 3-bit string)\n",
    "- **Power of the primitive element $\\alpha$** (with $\\alpha = x$), or `0` for the zero element\n",
    "- **Polynomial representation** (in terms of $\\alpha$)"
   ]
  },
  {
   "cell_type": "code",
   "execution_count": 3,
   "id": "19dec61b",
   "metadata": {},
   "outputs": [
    {
     "name": "stdout",
     "output_type": "stream",
     "text": [
      "Int |   Binary |    α^k |           Polynomial\n",
      "---------------------------------------------\n",
      "  0 |      000 |      0 |                    0\n",
      "  1 |      001 |      1 |                    1\n",
      "  2 |      010 |     α¹ |                    α\n",
      "  4 |      100 |     α² |                   α²\n",
      "  3 |      011 |     α³ |                α + 1\n",
      "  6 |      110 |     α⁴ |               α² + α\n",
      "  7 |      111 |     α⁵ |           α² + α + 1\n",
      "  5 |      101 |     α⁶ |               α² + 1\n"
     ]
    }
   ],
   "source": [
    "gf8.print_table()"
   ]
  },
  {
   "cell_type": "markdown",
   "id": "03e6010f",
   "metadata": {},
   "source": [
    "## Addition Example\n",
    "\n",
    "We demonstrate addition in $GF(8)$ by adding $\\alpha$ and $\\alpha^2$. The result is $\\alpha + \\alpha^2$."
   ]
  },
  {
   "cell_type": "code",
   "execution_count": 4,
   "id": "2a7ada28",
   "metadata": {},
   "outputs": [
    {
     "name": "stdout",
     "output_type": "stream",
     "text": [
      "Addition result: 6\n"
     ]
    }
   ],
   "source": [
    "a = [0,1,0]\n",
    "b = [0,0,1]\n",
    "\n",
    "result = gf8.add(a, b)  # Should return [0, 1, 1] (binary addition)\n",
    "print(f\"Addition result: {result}\")\n"
   ]
  },
  {
   "cell_type": "markdown",
   "id": "b6475ca1",
   "metadata": {},
   "source": [
    "Note that the result from the addition is the integer 6. In the table above, $\\alpha$ is $010$ in binary representation and $\\alpha^2$ is $100$. Their sum in binary is $110$, which is the integer 6. We can print this result in polynomial format using the `poly_str` method."
   ]
  },
  {
   "cell_type": "code",
   "execution_count": 5,
   "id": "7db999d4",
   "metadata": {},
   "outputs": [
    {
     "name": "stdout",
     "output_type": "stream",
     "text": [
      "α² + α\n"
     ]
    }
   ],
   "source": [
    "print(gf8.poly_str(result))"
   ]
  },
  {
   "cell_type": "markdown",
   "id": "d4ddb624",
   "metadata": {},
   "source": [
    "## Multiplication Example\n",
    "\n",
    "We demonstrate multiplication in $GF(8)$ by multiplying $\\alpha$ and $\\alpha^2$. The result is $\\alpha^3$, which is reduced modulo the primitive polynomial $x^3 + x + 1$."
   ]
  },
  {
   "cell_type": "code",
   "execution_count": 6,
   "id": "d7cb3f9d",
   "metadata": {},
   "outputs": [
    {
     "name": "stdout",
     "output_type": "stream",
     "text": [
      "α * α^2 = α + 1\n"
     ]
    }
   ],
   "source": [
    "prod_result = gf8.mul(a, b)\n",
    "print(\"α * α^2 =\", gf8.poly_str(prod_result))"
   ]
  },
  {
   "cell_type": "markdown",
   "id": "cec26839",
   "metadata": {},
   "source": [
    "## Tables for Field Extensions of $GF(2)$\n",
    "\n",
    "We construct and display tables for $GF(4)$, $GF(8)$, $GF(16)$, $GF(32)$, and $GF(64)$ using different primitive polynomials."
   ]
  },
  {
   "cell_type": "markdown",
   "id": "ec11a97d",
   "metadata": {},
   "source": [
    "Table for $GF(4)= GF(2)(\\alpha)$ where $\\alpha^2 + \\alpha + 1 = 0$"
   ]
  },
  {
   "cell_type": "code",
   "execution_count": 7,
   "id": "eb818418",
   "metadata": {},
   "outputs": [
    {
     "name": "stdout",
     "output_type": "stream",
     "text": [
      "Int |   Binary |    α^k |           Polynomial\n",
      "---------------------------------------------\n",
      "  0 |       00 |      0 |                    0\n",
      "  1 |       01 |      1 |                    1\n",
      "  2 |       10 |     α¹ |                    α\n",
      "  3 |       11 |     α² |                α + 1\n"
     ]
    }
   ],
   "source": [
    "gf4 = GF(2,2,[1,1,1])  # α^2 + α + 1\n",
    "gf4.print_table()"
   ]
  },
  {
   "cell_type": "markdown",
   "id": "09f71f18",
   "metadata": {},
   "source": [
    "Table for $GF(8)= GF(2)(\\alpha)$ where $\\alpha^3 + \\alpha + 1 = 0$"
   ]
  },
  {
   "cell_type": "code",
   "execution_count": 8,
   "id": "4857c150",
   "metadata": {},
   "outputs": [
    {
     "name": "stdout",
     "output_type": "stream",
     "text": [
      "Int |   Binary |    α^k |           Polynomial\n",
      "---------------------------------------------\n",
      "  0 |      000 |      0 |                    0\n",
      "  1 |      001 |      1 |                    1\n",
      "  2 |      010 |     α¹ |                    α\n",
      "  4 |      100 |     α² |                   α²\n",
      "  3 |      011 |     α³ |                α + 1\n",
      "  6 |      110 |     α⁴ |               α² + α\n",
      "  7 |      111 |     α⁵ |           α² + α + 1\n",
      "  5 |      101 |     α⁶ |               α² + 1\n"
     ]
    }
   ],
   "source": [
    "gf8.print_table()"
   ]
  },
  {
   "cell_type": "markdown",
   "id": "59ad20e5",
   "metadata": {},
   "source": [
    "Table for $GF(16)= GF(2)(\\alpha)$ where $\\alpha^4 + \\alpha^3 + 1 = 0$"
   ]
  },
  {
   "cell_type": "code",
   "execution_count": 12,
   "id": "794b6947",
   "metadata": {},
   "outputs": [
    {
     "name": "stdout",
     "output_type": "stream",
     "text": [
      "Int |   Binary |    α^k |           Polynomial\n",
      "---------------------------------------------\n",
      "  0 |     0000 |      0 |                    0\n",
      "  1 |     0001 |      1 |                    1\n",
      "  2 |     0010 |     α¹ |                    α\n",
      "  4 |     0100 |     α² |                   α²\n",
      "  8 |     1000 |     α³ |                   α³\n",
      "  9 |     1001 |     α⁴ |               α³ + 1\n",
      " 11 |     1011 |     α⁵ |           α³ + α + 1\n",
      " 15 |     1111 |     α⁶ |      α³ + α² + α + 1\n",
      "  7 |     0111 |     α⁷ |           α² + α + 1\n",
      " 14 |     1110 |     α⁸ |          α³ + α² + α\n",
      "  5 |     0101 |     α⁹ |               α² + 1\n",
      " 10 |     1010 |    α¹⁰ |               α³ + α\n",
      " 13 |     1101 |    α¹¹ |          α³ + α² + 1\n",
      "  3 |     0011 |    α¹² |                α + 1\n",
      "  6 |     0110 |    α¹³ |               α² + α\n",
      " 12 |     1100 |    α¹⁴ |              α³ + α²\n"
     ]
    }
   ],
   "source": [
    "gf16 = GF(2,4,[1,0,0,1,1])  # α^4 + α^3 + 1\n",
    "gf16.print_table()"
   ]
  },
  {
   "cell_type": "markdown",
   "id": "9e7b385b",
   "metadata": {},
   "source": [
    "Table for $GF(32)= GF(2)(\\alpha)$ where $\\alpha^5 + \\alpha^2 + 1 = 0$"
   ]
  },
  {
   "cell_type": "code",
   "execution_count": 13,
   "id": "d4c484a0",
   "metadata": {},
   "outputs": [
    {
     "name": "stdout",
     "output_type": "stream",
     "text": [
      "Int |   Binary |    α^k |           Polynomial\n",
      "---------------------------------------------\n",
      "  0 |    00000 |      0 |                    0\n",
      "  1 |    00001 |      1 |                    1\n",
      "  2 |    00010 |     α¹ |                    α\n",
      "  4 |    00100 |     α² |                   α²\n",
      "  8 |    01000 |     α³ |                   α³\n",
      " 16 |    10000 |     α⁴ |                   α⁴\n",
      "  5 |    00101 |     α⁵ |               α² + 1\n",
      " 10 |    01010 |     α⁶ |               α³ + α\n",
      " 20 |    10100 |     α⁷ |              α⁴ + α²\n",
      " 13 |    01101 |     α⁸ |          α³ + α² + 1\n",
      " 26 |    11010 |     α⁹ |          α⁴ + α³ + α\n",
      " 17 |    10001 |    α¹⁰ |               α⁴ + 1\n",
      "  7 |    00111 |    α¹¹ |           α² + α + 1\n",
      " 14 |    01110 |    α¹² |          α³ + α² + α\n",
      " 28 |    11100 |    α¹³ |         α⁴ + α³ + α²\n",
      " 29 |    11101 |    α¹⁴ |     α⁴ + α³ + α² + 1\n",
      " 31 |    11111 |    α¹⁵ | α⁴ + α³ + α² + α + 1\n",
      " 27 |    11011 |    α¹⁶ |      α⁴ + α³ + α + 1\n",
      " 19 |    10011 |    α¹⁷ |           α⁴ + α + 1\n",
      "  3 |    00011 |    α¹⁸ |                α + 1\n",
      "  6 |    00110 |    α¹⁹ |               α² + α\n",
      " 12 |    01100 |    α²⁰ |              α³ + α²\n",
      " 24 |    11000 |    α²¹ |              α⁴ + α³\n",
      " 21 |    10101 |    α²² |          α⁴ + α² + 1\n",
      " 15 |    01111 |    α²³ |      α³ + α² + α + 1\n",
      " 30 |    11110 |    α²⁴ |     α⁴ + α³ + α² + α\n",
      " 25 |    11001 |    α²⁵ |          α⁴ + α³ + 1\n",
      " 23 |    10111 |    α²⁶ |      α⁴ + α² + α + 1\n",
      " 11 |    01011 |    α²⁷ |           α³ + α + 1\n",
      " 22 |    10110 |    α²⁸ |          α⁴ + α² + α\n",
      "  9 |    01001 |    α²⁹ |               α³ + 1\n",
      " 18 |    10010 |    α³⁰ |               α⁴ + α\n"
     ]
    }
   ],
   "source": [
    "gf32 = GF(2,5,[1,0,1,0,0,1])  # α^5 + α^2 + 1\n",
    "gf32.print_table()"
   ]
  },
  {
   "cell_type": "markdown",
   "id": "05778441",
   "metadata": {},
   "source": [
    "Table for $GF(64)= GF(2)(\\alpha)$ where $\\alpha^6 + \\alpha + 1 = 0$"
   ]
  },
  {
   "cell_type": "code",
   "execution_count": 14,
   "id": "84438cff",
   "metadata": {},
   "outputs": [
    {
     "name": "stdout",
     "output_type": "stream",
     "text": [
      "Int |   Binary |    α^k |           Polynomial\n",
      "---------------------------------------------\n",
      "  0 |   000000 |      0 |                    0\n",
      "  1 |   000001 |      1 |                    1\n",
      "  2 |   000010 |     α¹ |                    α\n",
      "  4 |   000100 |     α² |                   α²\n",
      "  8 |   001000 |     α³ |                   α³\n",
      " 16 |   010000 |     α⁴ |                   α⁴\n",
      " 32 |   100000 |     α⁵ |                   α⁵\n",
      "  3 |   000011 |     α⁶ |                α + 1\n",
      "  6 |   000110 |     α⁷ |               α² + α\n",
      " 12 |   001100 |     α⁸ |              α³ + α²\n",
      " 24 |   011000 |     α⁹ |              α⁴ + α³\n",
      " 48 |   110000 |    α¹⁰ |              α⁵ + α⁴\n",
      " 35 |   100011 |    α¹¹ |           α⁵ + α + 1\n",
      "  5 |   000101 |    α¹² |               α² + 1\n",
      " 10 |   001010 |    α¹³ |               α³ + α\n",
      " 20 |   010100 |    α¹⁴ |              α⁴ + α²\n",
      " 40 |   101000 |    α¹⁵ |              α⁵ + α³\n",
      " 19 |   010011 |    α¹⁶ |           α⁴ + α + 1\n",
      " 38 |   100110 |    α¹⁷ |          α⁵ + α² + α\n",
      " 15 |   001111 |    α¹⁸ |      α³ + α² + α + 1\n",
      " 30 |   011110 |    α¹⁹ |     α⁴ + α³ + α² + α\n",
      " 60 |   111100 |    α²⁰ |    α⁵ + α⁴ + α³ + α²\n",
      " 59 |   111011 |    α²¹ | α⁵ + α⁴ + α³ + α + 1\n",
      " 53 |   110101 |    α²² |     α⁵ + α⁴ + α² + 1\n",
      " 41 |   101001 |    α²³ |          α⁵ + α³ + 1\n",
      " 17 |   010001 |    α²⁴ |               α⁴ + 1\n",
      " 34 |   100010 |    α²⁵ |               α⁵ + α\n",
      "  7 |   000111 |    α²⁶ |           α² + α + 1\n",
      " 14 |   001110 |    α²⁷ |          α³ + α² + α\n",
      " 28 |   011100 |    α²⁸ |         α⁴ + α³ + α²\n",
      " 56 |   111000 |    α²⁹ |         α⁵ + α⁴ + α³\n",
      " 51 |   110011 |    α³⁰ |      α⁵ + α⁴ + α + 1\n",
      " 37 |   100101 |    α³¹ |          α⁵ + α² + 1\n",
      "  9 |   001001 |    α³² |               α³ + 1\n",
      " 18 |   010010 |    α³³ |               α⁴ + α\n",
      " 36 |   100100 |    α³⁴ |              α⁵ + α²\n",
      " 11 |   001011 |    α³⁵ |           α³ + α + 1\n",
      " 22 |   010110 |    α³⁶ |          α⁴ + α² + α\n",
      " 44 |   101100 |    α³⁷ |         α⁵ + α³ + α²\n",
      " 27 |   011011 |    α³⁸ |      α⁴ + α³ + α + 1\n",
      " 54 |   110110 |    α³⁹ |     α⁵ + α⁴ + α² + α\n",
      " 47 |   101111 |    α⁴⁰ | α⁵ + α³ + α² + α + 1\n",
      " 29 |   011101 |    α⁴¹ |     α⁴ + α³ + α² + 1\n",
      " 58 |   111010 |    α⁴² |     α⁵ + α⁴ + α³ + α\n",
      " 55 |   110111 |    α⁴³ | α⁵ + α⁴ + α² + α + 1\n",
      " 45 |   101101 |    α⁴⁴ |     α⁵ + α³ + α² + 1\n",
      " 25 |   011001 |    α⁴⁵ |          α⁴ + α³ + 1\n",
      " 50 |   110010 |    α⁴⁶ |          α⁵ + α⁴ + α\n",
      " 39 |   100111 |    α⁴⁷ |      α⁵ + α² + α + 1\n",
      " 13 |   001101 |    α⁴⁸ |          α³ + α² + 1\n",
      " 26 |   011010 |    α⁴⁹ |          α⁴ + α³ + α\n",
      " 52 |   110100 |    α⁵⁰ |         α⁵ + α⁴ + α²\n",
      " 43 |   101011 |    α⁵¹ |      α⁵ + α³ + α + 1\n",
      " 21 |   010101 |    α⁵² |          α⁴ + α² + 1\n",
      " 42 |   101010 |    α⁵³ |          α⁵ + α³ + α\n",
      " 23 |   010111 |    α⁵⁴ |      α⁴ + α² + α + 1\n",
      " 46 |   101110 |    α⁵⁵ |     α⁵ + α³ + α² + α\n",
      " 31 |   011111 |    α⁵⁶ | α⁴ + α³ + α² + α + 1\n",
      " 62 |   111110 |    α⁵⁷ | α⁵ + α⁴ + α³ + α² + α\n",
      " 63 |   111111 |    α⁵⁸ | α⁵ + α⁴ + α³ + α² + α + 1\n",
      " 61 |   111101 |    α⁵⁹ | α⁵ + α⁴ + α³ + α² + 1\n",
      " 57 |   111001 |    α⁶⁰ |     α⁵ + α⁴ + α³ + 1\n",
      " 49 |   110001 |    α⁶¹ |          α⁵ + α⁴ + 1\n",
      " 33 |   100001 |    α⁶² |               α⁵ + 1\n"
     ]
    }
   ],
   "source": [
    "gf64 = GF(2,6,[1,1,0,0,0,0,1])  # α^6 + α + 1\n",
    "gf64.print_table()"
   ]
  }
 ],
 "metadata": {
  "kernelspec": {
   "display_name": "venv",
   "language": "python",
   "name": "python3"
  },
  "language_info": {
   "codemirror_mode": {
    "name": "ipython",
    "version": 3
   },
   "file_extension": ".py",
   "mimetype": "text/x-python",
   "name": "python",
   "nbconvert_exporter": "python",
   "pygments_lexer": "ipython3",
   "version": "3.12.3"
  }
 },
 "nbformat": 4,
 "nbformat_minor": 5
}
